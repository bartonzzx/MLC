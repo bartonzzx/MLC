{
  "nbformat": 4,
  "nbformat_minor": 0,
  "metadata": {
    "colab": {
      "provenance": [],
      "authorship_tag": "ABX9TyNqVVBGhM/zY2TObgRLIH/g",
      "include_colab_link": true
    },
    "kernelspec": {
      "name": "python3",
      "display_name": "Python 3"
    },
    "language_info": {
      "name": "python"
    }
  },
  "cells": [
    {
      "cell_type": "markdown",
      "metadata": {
        "id": "view-in-github",
        "colab_type": "text"
      },
      "source": [
        "<a href=\"https://colab.research.google.com/github/bartonzzx/MLC/blob/main/2_MCL.ipynb\" target=\"_parent\"><img src=\"https://colab.research.google.com/assets/colab-badge.svg\" alt=\"Open In Colab\"/></a>"
      ]
    },
    {
      "cell_type": "code",
      "execution_count": 3,
      "metadata": {
        "colab": {
          "base_uri": "https://localhost:8080/"
        },
        "id": "SD7PO4mbJMGy",
        "outputId": "39400a0b-45f1-433d-821b-6f695293ce39"
      },
      "outputs": [
        {
          "output_type": "stream",
          "name": "stdout",
          "text": [
            "Looking in links: https://mlc.ai/wheels\n",
            "Collecting mlc-ai-nightly\n",
            "  Downloading https://github.com/mlc-ai/package/releases/download/v0.9.dev0/mlc_ai_nightly-0.15.dev570-cp312-cp312-manylinux_2_28_x86_64.whl (185.6 MB)\n",
            "\u001b[2K     \u001b[90m━━━━━━━━━━━━━━━━━━━━━━━━━━━━━━━━━━━━━━━\u001b[0m \u001b[32m185.6/185.6 MB\u001b[0m \u001b[31m5.4 MB/s\u001b[0m eta \u001b[36m0:00:00\u001b[0m\n",
            "\u001b[?25hRequirement already satisfied: attrs in /usr/local/lib/python3.12/dist-packages (from mlc-ai-nightly) (25.3.0)\n",
            "Requirement already satisfied: cloudpickle in /usr/local/lib/python3.12/dist-packages (from mlc-ai-nightly) (3.1.1)\n",
            "Requirement already satisfied: decorator in /usr/local/lib/python3.12/dist-packages (from mlc-ai-nightly) (4.4.2)\n",
            "Requirement already satisfied: ml-dtypes in /usr/local/lib/python3.12/dist-packages (from mlc-ai-nightly) (0.5.3)\n",
            "Requirement already satisfied: numpy in /usr/local/lib/python3.12/dist-packages (from mlc-ai-nightly) (2.0.2)\n",
            "Requirement already satisfied: packaging in /usr/local/lib/python3.12/dist-packages (from mlc-ai-nightly) (25.0)\n",
            "Requirement already satisfied: psutil in /usr/local/lib/python3.12/dist-packages (from mlc-ai-nightly) (5.9.5)\n",
            "Requirement already satisfied: scipy in /usr/local/lib/python3.12/dist-packages (from mlc-ai-nightly) (1.16.1)\n",
            "Requirement already satisfied: tornado in /usr/local/lib/python3.12/dist-packages (from mlc-ai-nightly) (6.4.2)\n",
            "Requirement already satisfied: typing-extensions in /usr/local/lib/python3.12/dist-packages (from mlc-ai-nightly) (4.14.1)\n",
            "Installing collected packages: mlc-ai-nightly\n",
            "Successfully installed mlc-ai-nightly-0.15.dev570\n"
          ]
        }
      ],
      "source": [
        "!python3 -m  pip install mlc-ai-nightly -f https://mlc.ai/wheels"
      ]
    },
    {
      "cell_type": "code",
      "source": [
        "import IPython\n",
        "import numpy as np\n",
        "import tvm\n",
        "from tvm.ir.module import IRModule\n",
        "from tvm.script import tir as T"
      ],
      "metadata": {
        "id": "EGrcNXEWJSKV"
      },
      "execution_count": 4,
      "outputs": []
    },
    {
      "cell_type": "markdown",
      "source": [
        "## 如何编写TensorIR"
      ],
      "metadata": {
        "id": "qOPQQBrVd_j4"
      }
    },
    {
      "cell_type": "code",
      "source": [
        "# numpy data initialization\n",
        "a = np.arange(16).reshape(4, 4)\n",
        "b = np.arange(16, 0, -1).reshape(4, 4)\n",
        "a,b"
      ],
      "metadata": {
        "colab": {
          "base_uri": "https://localhost:8080/"
        },
        "id": "FssgIXvYJ5ZH",
        "outputId": "3bcd9c26-bdf8-4c8b-c74f-628d03c0cb2a"
      },
      "execution_count": 5,
      "outputs": [
        {
          "output_type": "execute_result",
          "data": {
            "text/plain": [
              "(array([[ 0,  1,  2,  3],\n",
              "        [ 4,  5,  6,  7],\n",
              "        [ 8,  9, 10, 11],\n",
              "        [12, 13, 14, 15]]),\n",
              " array([[16, 15, 14, 13],\n",
              "        [12, 11, 10,  9],\n",
              "        [ 8,  7,  6,  5],\n",
              "        [ 4,  3,  2,  1]]))"
            ]
          },
          "metadata": {},
          "execution_count": 5
        }
      ]
    },
    {
      "cell_type": "code",
      "source": [
        "# numpy add\n",
        "c_np = a + b\n",
        "c_np"
      ],
      "metadata": {
        "colab": {
          "base_uri": "https://localhost:8080/"
        },
        "id": "mb0dNkqgds_s",
        "outputId": "d1c16c99-68ee-4ebf-9081-822a9c83dfcf"
      },
      "execution_count": 6,
      "outputs": [
        {
          "output_type": "execute_result",
          "data": {
            "text/plain": [
              "array([[16, 16, 16, 16],\n",
              "       [16, 16, 16, 16],\n",
              "       [16, 16, 16, 16],\n",
              "       [16, 16, 16, 16]])"
            ]
          },
          "metadata": {},
          "execution_count": 6
        }
      ]
    },
    {
      "cell_type": "code",
      "source": [
        "# low level numpy add\n",
        "def lnumpy_add(a: np.ndarray, b: np.ndarray, c: np.ndarray):\n",
        "    for i in range(4):\n",
        "        for j in range(4):\n",
        "            c[i, j] = a[i, j] + b[i, j]\n",
        "\n",
        "c_lnp = np.empty((4, 4), dtype = np.int64)\n",
        "lnumpy_add(a, b, c_lnp)\n",
        "c_lnp"
      ],
      "metadata": {
        "colab": {
          "base_uri": "https://localhost:8080/"
        },
        "id": "q8MITMbJd4K9",
        "outputId": "4d2afa70-161b-4023-ce03-3fb402d627fa"
      },
      "execution_count": 7,
      "outputs": [
        {
          "output_type": "execute_result",
          "data": {
            "text/plain": [
              "array([[16, 16, 16, 16],\n",
              "       [16, 16, 16, 16],\n",
              "       [16, 16, 16, 16],\n",
              "       [16, 16, 16, 16]])"
            ]
          },
          "metadata": {},
          "execution_count": 7
        }
      ]
    },
    {
      "cell_type": "code",
      "source": [
        "# TensorIR add\n",
        "@tvm.script.ir_module\n",
        "class MyAdd:\n",
        "    @T.prim_func\n",
        "    def add(\n",
        "            A: T.Buffer((4, 4), \"int64\"),\n",
        "            B: T.Buffer((4, 4), \"int64\"),\n",
        "            C: T.Buffer((4, 4), \"int64\")\n",
        "    ):\n",
        "        T.func_attr({\"global_symbol\": \"add\"})\n",
        "        for i, j in T.grid(4, 4):\n",
        "            with T.block(\"C\"):\n",
        "                vi = T.axis.spatial(4, i)\n",
        "                vj = T.axis.spatial(4, j)\n",
        "                C[vi, vj] = A[vi, vj] + B[vi, vj]\n",
        "\n",
        "rt_lib = tvm.build(MyAdd, target = \"llvm\")\n",
        "a_tvm = tvm.nd.array(a)\n",
        "b_tvm = tvm.nd.array(b)\n",
        "c_tvm = tvm.nd.array(np.empty((4, 4), dtype = np.int64))\n",
        "rt_lib[\"add\"](a_tvm, b_tvm, c_tvm)\n",
        "np.testing.assert_allclose(c_tvm.numpy(), c_np, rtol = 1e-5)"
      ],
      "metadata": {
        "id": "afoL-80Je6UO"
      },
      "execution_count": 8,
      "outputs": []
    },
    {
      "cell_type": "markdown",
      "source": [
        "# 练习1:广播加法"
      ],
      "metadata": {
        "id": "xxHWv-u0hwyD"
      }
    },
    {
      "cell_type": "code",
      "source": [
        "# init data\n",
        "a = np.arange(16).reshape(4,4)\n",
        "b = np.arange(4, 0, -1).reshape(4)\n",
        "a, b"
      ],
      "metadata": {
        "colab": {
          "base_uri": "https://localhost:8080/"
        },
        "collapsed": true,
        "id": "EtrpAeQYhXx2",
        "outputId": "3af29f11-61a7-49fd-8cf7-4d1d9190355a"
      },
      "execution_count": 9,
      "outputs": [
        {
          "output_type": "execute_result",
          "data": {
            "text/plain": [
              "(array([[ 0,  1,  2,  3],\n",
              "        [ 4,  5,  6,  7],\n",
              "        [ 8,  9, 10, 11],\n",
              "        [12, 13, 14, 15]]),\n",
              " array([4, 3, 2, 1]))"
            ]
          },
          "metadata": {},
          "execution_count": 9
        }
      ]
    },
    {
      "cell_type": "code",
      "source": [
        "# numpy version\n",
        "c_np = a + b\n",
        "c_np"
      ],
      "metadata": {
        "colab": {
          "base_uri": "https://localhost:8080/"
        },
        "collapsed": true,
        "id": "CiBE8ql6iHZa",
        "outputId": "e526219f-a65e-43f6-c81f-5566c1b75c1c"
      },
      "execution_count": 10,
      "outputs": [
        {
          "output_type": "execute_result",
          "data": {
            "text/plain": [
              "array([[ 4,  4,  4,  4],\n",
              "       [ 8,  8,  8,  8],\n",
              "       [12, 12, 12, 12],\n",
              "       [16, 16, 16, 16]])"
            ]
          },
          "metadata": {},
          "execution_count": 10
        }
      ]
    },
    {
      "cell_type": "code",
      "source": [
        "@tvm.script.ir_module\n",
        "class MyAdd:\n",
        "    @T.prim_func\n",
        "    def add(\n",
        "            A: T.Buffer((4, 4), \"int64\"),\n",
        "            B: T.Buffer((4), \"int64\"),\n",
        "            C: T.Buffer((4, 4), \"int64\")\n",
        "    ):\n",
        "        T.func_attr({\"global_symbol\": \"add\"})\n",
        "        for i, j in T.grid(4, 4):\n",
        "            with T.block(\"C\"):\n",
        "                vi = T.axis.spatial(4, i)\n",
        "                vj = T.axis.spatial(4, j)\n",
        "                C[vi, vj] = A[vi, vj] + B[vj]\n",
        "\n",
        "rt_lib = tvm.build(MyAdd, \"llvm\")\n",
        "a_tvm = tvm.nd.array(a)\n",
        "b_tvm = tvm.nd.array(b)\n",
        "c_tvm = tvm.nd.array(np.empty((4, 4), dtype = np.int64))\n",
        "rt_lib[\"add\"](a_tvm, b_tvm, c_tvm)\n",
        "np.testing.assert_allclose(c_tvm.numpy(), c_np, rtol = 1e-5)"
      ],
      "metadata": {
        "id": "oflHYjrziKjJ"
      },
      "execution_count": 11,
      "outputs": []
    },
    {
      "cell_type": "markdown",
      "source": [
        "# 练习2:二维卷积"
      ],
      "metadata": {
        "id": "Z43op8p3j_LU"
      }
    },
    {
      "cell_type": "code",
      "source": [
        "N, CI, H, W, CO, K = 1, 1, 8, 8, 2, 3\n",
        "OUT_H, OUT_W = H - K + 1, W - K + 1\n",
        "data = np.arange(N*CI*H*W).reshape(N, CI, H, W)\n",
        "weight = np.arange(CO*CI*K*K).reshape(CO, CI, K, K)\n",
        "data, weight"
      ],
      "metadata": {
        "colab": {
          "base_uri": "https://localhost:8080/"
        },
        "id": "rs6cF6-Gj6Kq",
        "outputId": "2a40b889-692a-4e92-af77-c9f160c1ab5a"
      },
      "execution_count": 21,
      "outputs": [
        {
          "output_type": "execute_result",
          "data": {
            "text/plain": [
              "(array([[[[ 0,  1,  2,  3,  4,  5,  6,  7],\n",
              "          [ 8,  9, 10, 11, 12, 13, 14, 15],\n",
              "          [16, 17, 18, 19, 20, 21, 22, 23],\n",
              "          [24, 25, 26, 27, 28, 29, 30, 31],\n",
              "          [32, 33, 34, 35, 36, 37, 38, 39],\n",
              "          [40, 41, 42, 43, 44, 45, 46, 47],\n",
              "          [48, 49, 50, 51, 52, 53, 54, 55],\n",
              "          [56, 57, 58, 59, 60, 61, 62, 63]]]]),\n",
              " array([[[[ 0,  1,  2],\n",
              "          [ 3,  4,  5],\n",
              "          [ 6,  7,  8]]],\n",
              " \n",
              " \n",
              "        [[[ 9, 10, 11],\n",
              "          [12, 13, 14],\n",
              "          [15, 16, 17]]]]))"
            ]
          },
          "metadata": {},
          "execution_count": 21
        }
      ]
    },
    {
      "cell_type": "code",
      "source": [
        "# torch version\n",
        "import torch\n",
        "\n",
        "data_torch = torch.Tensor(data)\n",
        "weight_torch = torch.Tensor(weight)\n",
        "conv_torch = torch.nn.functional.conv2d(data_torch, weight_torch)\n",
        "conv_torch = conv_torch.numpy().astype(np.int64)\n",
        "conv_torch"
      ],
      "metadata": {
        "colab": {
          "base_uri": "https://localhost:8080/"
        },
        "collapsed": true,
        "id": "Jfy6OyQOmlgY",
        "outputId": "1c75d3b3-5511-409d-9c0d-9d766b4a5c53"
      },
      "execution_count": 22,
      "outputs": [
        {
          "output_type": "execute_result",
          "data": {
            "text/plain": [
              "array([[[[ 474,  510,  546,  582,  618,  654],\n",
              "         [ 762,  798,  834,  870,  906,  942],\n",
              "         [1050, 1086, 1122, 1158, 1194, 1230],\n",
              "         [1338, 1374, 1410, 1446, 1482, 1518],\n",
              "         [1626, 1662, 1698, 1734, 1770, 1806],\n",
              "         [1914, 1950, 1986, 2022, 2058, 2094]],\n",
              "\n",
              "        [[1203, 1320, 1437, 1554, 1671, 1788],\n",
              "         [2139, 2256, 2373, 2490, 2607, 2724],\n",
              "         [3075, 3192, 3309, 3426, 3543, 3660],\n",
              "         [4011, 4128, 4245, 4362, 4479, 4596],\n",
              "         [4947, 5064, 5181, 5298, 5415, 5532],\n",
              "         [5883, 6000, 6117, 6234, 6351, 6468]]]])"
            ]
          },
          "metadata": {},
          "execution_count": 22
        }
      ]
    },
    {
      "cell_type": "code",
      "source": [
        "@tvm.script.ir_module\n",
        "class MyConv:\n",
        "  @T.prim_func\n",
        "  def conv(\n",
        "          Data: T.Buffer((N, CI, H, W), \"int64\"),\n",
        "          Weight: T.Buffer((CO, CI, K, K), \"int64\"),\n",
        "          Conv: T.Buffer((N, CO, OUT_H, OUT_W),\"int64\")\n",
        "  ):\n",
        "    T.func_attr({\"global_symbol\": \"conv\", \"tir.noalias\": True})\n",
        "    for va, vb, vc, vd in T.grid(N, CO, OUT_H, OUT_W):\n",
        "        with T.block(\"Conv_init\"):\n",
        "            a, b, c, d = T.axis.remap(\"SSSS\", [va, vb, vc, vd])\n",
        "            Conv[a, b, c, d] = T.int64(0)\n",
        "        # 注意，不能在block内新建循环，因为block内部的逻辑表示的是一个\"点\"的计算规则或定义，而循环应该由grid来构造\n",
        "        for ve, vf, vg in T.grid(K, K, CI):\n",
        "            with T.block(\"Conv\"):\n",
        "                a, b, c, d, e, f, g = T.axis.remap(\"SSSSSSS\", [va, vb, vc, vd, ve, vf, vg])\n",
        "                Conv[a, b, c, d] = Conv[a, b, c, d] + Data[a, g, c + e, d + f] * Weight[b, g, e, f]\n",
        "\n",
        "rt_lib = tvm.build(MyConv, target=\"llvm\")\n",
        "data_tvm = tvm.nd.array(data)\n",
        "weight_tvm = tvm.nd.array(weight)\n",
        "conv_tvm = tvm.nd.array(np.empty((N, CO, OUT_H, OUT_W), dtype=np.int64))\n",
        "rt_lib[\"conv\"](data_tvm, weight_tvm, conv_tvm)\n",
        "# np.testing.assert_allclose(conv_tvm.numpy(), conv_torch, rtol=1e-5)"
      ],
      "metadata": {
        "id": "AlwxKKDummqD"
      },
      "execution_count": 30,
      "outputs": []
    },
    {
      "cell_type": "code",
      "source": [],
      "metadata": {
        "id": "fqxdvgRgS9i9"
      },
      "execution_count": null,
      "outputs": []
    }
  ]
}